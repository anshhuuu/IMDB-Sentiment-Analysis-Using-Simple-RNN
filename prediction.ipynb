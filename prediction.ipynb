{
 "cells": [
  {
   "cell_type": "code",
   "execution_count": 18,
   "metadata": {},
   "outputs": [],
   "source": [
    "# Step 1: Import Libraries and Load the Model\n",
    "import numpy as np\n",
    "import tensorflow as tf\n",
    "from tensorflow.keras.datasets import imdb\n",
    "from tensorflow.keras.preprocessing import sequence\n",
    "from tensorflow.keras.models import load_model"
   ]
  },
  {
   "cell_type": "code",
   "execution_count": 19,
   "metadata": {},
   "outputs": [],
   "source": [
    "\n",
    "# Load the IMDB dataset word index\n",
    "word_index = imdb.get_word_index()\n",
    "reverse_word_index = {value: key for key, value in word_index.items()}"
   ]
  },
  {
   "cell_type": "code",
   "execution_count": 20,
   "metadata": {},
   "outputs": [
    {
     "name": "stderr",
     "output_type": "stream",
     "text": [
      "WARNING:absl:Compiled the loaded model, but the compiled metrics have yet to be built. `model.compile_metrics` will be empty until you train or evaluate the model.\n"
     ]
    },
    {
     "data": {
      "text/html": [
       "<pre style=\"white-space:pre;overflow-x:auto;line-height:normal;font-family:Menlo,'DejaVu Sans Mono',consolas,'Courier New',monospace\"><span style=\"font-weight: bold\">Model: \"sequential_4\"</span>\n",
       "</pre>\n"
      ],
      "text/plain": [
       "\u001b[1mModel: \"sequential_4\"\u001b[0m\n"
      ]
     },
     "metadata": {},
     "output_type": "display_data"
    },
    {
     "data": {
      "text/html": [
       "<pre style=\"white-space:pre;overflow-x:auto;line-height:normal;font-family:Menlo,'DejaVu Sans Mono',consolas,'Courier New',monospace\">┏━━━━━━━━━━━━━━━━━━━━━━━━━━━━━━━━━┳━━━━━━━━━━━━━━━━━━━━━━━━┳━━━━━━━━━━━━━━━┓\n",
       "┃<span style=\"font-weight: bold\"> Layer (type)                    </span>┃<span style=\"font-weight: bold\"> Output Shape           </span>┃<span style=\"font-weight: bold\">       Param # </span>┃\n",
       "┡━━━━━━━━━━━━━━━━━━━━━━━━━━━━━━━━━╇━━━━━━━━━━━━━━━━━━━━━━━━╇━━━━━━━━━━━━━━━┩\n",
       "│ embedding_4 (<span style=\"color: #0087ff; text-decoration-color: #0087ff\">Embedding</span>)         │ (<span style=\"color: #00d7ff; text-decoration-color: #00d7ff\">None</span>, <span style=\"color: #00af00; text-decoration-color: #00af00\">500</span>, <span style=\"color: #00af00; text-decoration-color: #00af00\">128</span>)       │     <span style=\"color: #00af00; text-decoration-color: #00af00\">1,280,000</span> │\n",
       "├─────────────────────────────────┼────────────────────────┼───────────────┤\n",
       "│ simple_rnn_4 (<span style=\"color: #0087ff; text-decoration-color: #0087ff\">SimpleRNN</span>)        │ (<span style=\"color: #00d7ff; text-decoration-color: #00d7ff\">None</span>, <span style=\"color: #00af00; text-decoration-color: #00af00\">128</span>)            │        <span style=\"color: #00af00; text-decoration-color: #00af00\">32,896</span> │\n",
       "├─────────────────────────────────┼────────────────────────┼───────────────┤\n",
       "│ dense_4 (<span style=\"color: #0087ff; text-decoration-color: #0087ff\">Dense</span>)                 │ (<span style=\"color: #00d7ff; text-decoration-color: #00d7ff\">None</span>, <span style=\"color: #00af00; text-decoration-color: #00af00\">1</span>)              │           <span style=\"color: #00af00; text-decoration-color: #00af00\">129</span> │\n",
       "└─────────────────────────────────┴────────────────────────┴───────────────┘\n",
       "</pre>\n"
      ],
      "text/plain": [
       "┏━━━━━━━━━━━━━━━━━━━━━━━━━━━━━━━━━┳━━━━━━━━━━━━━━━━━━━━━━━━┳━━━━━━━━━━━━━━━┓\n",
       "┃\u001b[1m \u001b[0m\u001b[1mLayer (type)                   \u001b[0m\u001b[1m \u001b[0m┃\u001b[1m \u001b[0m\u001b[1mOutput Shape          \u001b[0m\u001b[1m \u001b[0m┃\u001b[1m \u001b[0m\u001b[1m      Param #\u001b[0m\u001b[1m \u001b[0m┃\n",
       "┡━━━━━━━━━━━━━━━━━━━━━━━━━━━━━━━━━╇━━━━━━━━━━━━━━━━━━━━━━━━╇━━━━━━━━━━━━━━━┩\n",
       "│ embedding_4 (\u001b[38;5;33mEmbedding\u001b[0m)         │ (\u001b[38;5;45mNone\u001b[0m, \u001b[38;5;34m500\u001b[0m, \u001b[38;5;34m128\u001b[0m)       │     \u001b[38;5;34m1,280,000\u001b[0m │\n",
       "├─────────────────────────────────┼────────────────────────┼───────────────┤\n",
       "│ simple_rnn_4 (\u001b[38;5;33mSimpleRNN\u001b[0m)        │ (\u001b[38;5;45mNone\u001b[0m, \u001b[38;5;34m128\u001b[0m)            │        \u001b[38;5;34m32,896\u001b[0m │\n",
       "├─────────────────────────────────┼────────────────────────┼───────────────┤\n",
       "│ dense_4 (\u001b[38;5;33mDense\u001b[0m)                 │ (\u001b[38;5;45mNone\u001b[0m, \u001b[38;5;34m1\u001b[0m)              │           \u001b[38;5;34m129\u001b[0m │\n",
       "└─────────────────────────────────┴────────────────────────┴───────────────┘\n"
      ]
     },
     "metadata": {},
     "output_type": "display_data"
    },
    {
     "data": {
      "text/html": [
       "<pre style=\"white-space:pre;overflow-x:auto;line-height:normal;font-family:Menlo,'DejaVu Sans Mono',consolas,'Courier New',monospace\"><span style=\"font-weight: bold\"> Total params: </span><span style=\"color: #00af00; text-decoration-color: #00af00\">1,313,027</span> (5.01 MB)\n",
       "</pre>\n"
      ],
      "text/plain": [
       "\u001b[1m Total params: \u001b[0m\u001b[38;5;34m1,313,027\u001b[0m (5.01 MB)\n"
      ]
     },
     "metadata": {},
     "output_type": "display_data"
    },
    {
     "data": {
      "text/html": [
       "<pre style=\"white-space:pre;overflow-x:auto;line-height:normal;font-family:Menlo,'DejaVu Sans Mono',consolas,'Courier New',monospace\"><span style=\"font-weight: bold\"> Trainable params: </span><span style=\"color: #00af00; text-decoration-color: #00af00\">1,313,025</span> (5.01 MB)\n",
       "</pre>\n"
      ],
      "text/plain": [
       "\u001b[1m Trainable params: \u001b[0m\u001b[38;5;34m1,313,025\u001b[0m (5.01 MB)\n"
      ]
     },
     "metadata": {},
     "output_type": "display_data"
    },
    {
     "data": {
      "text/html": [
       "<pre style=\"white-space:pre;overflow-x:auto;line-height:normal;font-family:Menlo,'DejaVu Sans Mono',consolas,'Courier New',monospace\"><span style=\"font-weight: bold\"> Non-trainable params: </span><span style=\"color: #00af00; text-decoration-color: #00af00\">0</span> (0.00 B)\n",
       "</pre>\n"
      ],
      "text/plain": [
       "\u001b[1m Non-trainable params: \u001b[0m\u001b[38;5;34m0\u001b[0m (0.00 B)\n"
      ]
     },
     "metadata": {},
     "output_type": "display_data"
    },
    {
     "data": {
      "text/html": [
       "<pre style=\"white-space:pre;overflow-x:auto;line-height:normal;font-family:Menlo,'DejaVu Sans Mono',consolas,'Courier New',monospace\"><span style=\"font-weight: bold\"> Optimizer params: </span><span style=\"color: #00af00; text-decoration-color: #00af00\">2</span> (12.00 B)\n",
       "</pre>\n"
      ],
      "text/plain": [
       "\u001b[1m Optimizer params: \u001b[0m\u001b[38;5;34m2\u001b[0m (12.00 B)\n"
      ]
     },
     "metadata": {},
     "output_type": "display_data"
    }
   ],
   "source": [
    "# Load the pre-trained model with ReLU activation\n",
    "model = load_model('simple_rnn_imdb.h5')\n",
    "model.summary()"
   ]
  },
  {
   "cell_type": "code",
   "execution_count": 21,
   "metadata": {},
   "outputs": [
    {
     "data": {
      "text/plain": [
       "[array([[ 2.38244683e-01, -6.05471134e-01, -4.14089084e-01, ...,\n",
       "          3.23739707e-01, -7.38426805e-01, -1.30968893e+00],\n",
       "        [ 3.88124434e-04,  3.62007357e-02,  8.37621316e-02, ...,\n",
       "         -5.05884402e-02,  6.21289797e-02,  5.27242245e-03],\n",
       "        [ 7.77325779e-02,  1.64467067e-01,  7.47952759e-02, ...,\n",
       "         -1.01873174e-01, -4.55723191e-03, -2.05611616e-01],\n",
       "        ...,\n",
       "        [ 4.02882509e-03, -7.74627784e-03,  9.06693190e-03, ...,\n",
       "          3.64681184e-02,  2.43103728e-02, -2.86402628e-02],\n",
       "        [ 7.35711530e-02, -2.10227985e-02, -1.78016955e-03, ...,\n",
       "          2.10122038e-02, -5.04749715e-02, -3.71344909e-02],\n",
       "        [-1.41604781e-01, -4.28967811e-02, -7.96136633e-02, ...,\n",
       "         -3.99625786e-02, -8.88654068e-02, -4.18531783e-02]], dtype=float32),\n",
       " array([[ 3.4833536e-02, -2.0100719e-01,  1.1155314e-01, ...,\n",
       "          1.2012273e-01,  3.0632755e-02,  1.0874255e-01],\n",
       "        [-5.5421847e-03, -2.0018214e-02,  1.0920035e-01, ...,\n",
       "         -2.4828918e-02,  1.2969918e-05,  5.6023952e-02],\n",
       "        [-1.6552036e-01,  1.1908296e-01,  1.2593830e-01, ...,\n",
       "         -8.0228187e-02, -9.7873598e-02, -1.0398219e-01],\n",
       "        ...,\n",
       "        [ 4.7349762e-03, -9.9972896e-02, -1.4523973e-04, ...,\n",
       "         -5.8560438e-02,  1.1793313e-01, -8.4882423e-02],\n",
       "        [ 4.9046326e-02,  1.1870471e-02,  5.9956204e-02, ...,\n",
       "         -7.4070364e-02, -8.2416892e-02,  1.3572675e-01],\n",
       "        [ 9.0637408e-02, -1.2582128e-01, -2.5914725e-02, ...,\n",
       "          6.6821292e-02,  1.5902506e-01,  7.1648615e-03]], dtype=float32),\n",
       " array([[ 7.98260197e-02,  1.34577021e-01, -6.00626655e-02, ...,\n",
       "          5.09201810e-02, -2.28207801e-02, -1.51092261e-01],\n",
       "        [ 7.73103386e-02, -8.38447362e-03,  2.64864787e-02, ...,\n",
       "         -6.27527237e-02,  1.37846336e-01, -3.30405757e-02],\n",
       "        [-1.95302311e-02, -1.27436593e-02,  6.06943369e-02, ...,\n",
       "          1.71163350e-01, -5.74462349e-03, -7.97087778e-05],\n",
       "        ...,\n",
       "        [-7.68830776e-02, -1.02494180e-01, -5.43527752e-02, ...,\n",
       "          8.43434334e-02, -1.25246085e-02, -1.72043756e-01],\n",
       "        [-7.75961056e-02,  1.64576732e-02, -4.84467708e-02, ...,\n",
       "         -2.39095837e-01, -1.16146646e-01,  6.76523224e-02],\n",
       "        [ 8.45680013e-02, -3.04949909e-01,  7.12944567e-02, ...,\n",
       "          1.87014602e-02, -1.52505329e-02,  1.21998787e-01]], dtype=float32),\n",
       " array([-0.0293039 ,  0.04093966,  0.02814931, -0.06633899,  0.02859527,\n",
       "        -0.0329848 , -0.03639779, -0.01919797, -0.04877919,  0.03061104,\n",
       "        -0.00820466, -0.03945265,  0.00170752,  0.06112143, -0.0427031 ,\n",
       "         0.03927741, -0.07114373, -0.03155974, -0.00864981,  0.00433665,\n",
       "         0.0281687 ,  0.016144  ,  0.01630292,  0.01209159,  0.01654502,\n",
       "        -0.03661725, -0.04820262, -0.07943621,  0.003553  ,  0.00226395,\n",
       "         0.084524  ,  0.01721157,  0.01697977,  0.0204964 ,  0.07437582,\n",
       "        -0.02634925, -0.0483154 ,  0.03346791, -0.07597168, -0.0021624 ,\n",
       "        -0.0371775 , -0.05054202, -0.0171964 ,  0.05228372, -0.07960358,\n",
       "        -0.03575881,  0.05441201,  0.01033325,  0.02218646, -0.06080246,\n",
       "        -0.01630024,  0.00059666,  0.01762757,  0.03122148, -0.00316326,\n",
       "        -0.06137832, -0.04695589,  0.07603786,  0.04359932, -0.0659428 ,\n",
       "         0.02559188,  0.04457169, -0.00901389, -0.00456766, -0.07065918,\n",
       "        -0.06980476,  0.00603623,  0.03299091,  0.00474256, -0.03748713,\n",
       "         0.04904922,  0.0478493 ,  0.06377355,  0.03499597, -0.04495918,\n",
       "        -0.05205197,  0.02277085,  0.02719513, -0.05532218,  0.03714149,\n",
       "         0.00984212,  0.01267696, -0.09836876,  0.04567983, -0.06902178,\n",
       "         0.03967495,  0.01727506, -0.03685148, -0.00825562,  0.01531915,\n",
       "         0.0252123 ,  0.03156219, -0.02384159, -0.04123779, -0.0855005 ,\n",
       "        -0.07652566, -0.00309042, -0.02272351,  0.02723732,  0.013631  ,\n",
       "        -0.04610592,  0.0052062 , -0.04559636,  0.02378714,  0.00919149,\n",
       "         0.05129455,  0.04819306, -0.05958363,  0.01887069,  0.00646837,\n",
       "        -0.05327658,  0.01197845,  0.03160052,  0.08139817, -0.04421508,\n",
       "         0.00588932,  0.00189906, -0.06532133, -0.02813732, -0.0478899 ,\n",
       "        -0.05944534,  0.00793109, -0.03313087, -0.03201897, -0.04009231,\n",
       "         0.00717532,  0.001978  , -0.04328459], dtype=float32),\n",
       " array([[-0.00166598],\n",
       "        [-0.12344628],\n",
       "        [ 0.16509189],\n",
       "        [-0.15412101],\n",
       "        [ 0.18420906],\n",
       "        [ 0.06863202],\n",
       "        [ 0.5952755 ],\n",
       "        [ 0.14297356],\n",
       "        [-0.18192078],\n",
       "        [-0.17936401],\n",
       "        [-0.0958622 ],\n",
       "        [-0.01325072],\n",
       "        [-0.01472165],\n",
       "        [-0.06774446],\n",
       "        [ 0.15915161],\n",
       "        [-0.10548063],\n",
       "        [-0.165522  ],\n",
       "        [-0.22930367],\n",
       "        [ 0.10087743],\n",
       "        [ 0.19926175],\n",
       "        [ 0.21713836],\n",
       "        [ 0.1823737 ],\n",
       "        [ 0.07837957],\n",
       "        [-0.19197115],\n",
       "        [ 0.20966312],\n",
       "        [ 0.06191813],\n",
       "        [ 0.00111196],\n",
       "        [-0.29367128],\n",
       "        [ 0.03524459],\n",
       "        [-0.25314415],\n",
       "        [ 0.10844063],\n",
       "        [ 0.13542727],\n",
       "        [ 0.17946157],\n",
       "        [-0.13865602],\n",
       "        [-0.07699636],\n",
       "        [-0.06449497],\n",
       "        [-0.07122131],\n",
       "        [ 0.07320549],\n",
       "        [-0.00597459],\n",
       "        [-0.05629554],\n",
       "        [ 0.08176949],\n",
       "        [-0.15651998],\n",
       "        [-0.24207878],\n",
       "        [ 0.01714291],\n",
       "        [ 0.15775682],\n",
       "        [-0.0056204 ],\n",
       "        [-0.07774125],\n",
       "        [-0.1762715 ],\n",
       "        [ 0.15092647],\n",
       "        [ 0.00901097],\n",
       "        [ 0.01655351],\n",
       "        [-0.08331309],\n",
       "        [ 0.06227313],\n",
       "        [ 0.14932491],\n",
       "        [ 0.04248287],\n",
       "        [-0.12543075],\n",
       "        [ 0.00182406],\n",
       "        [ 0.19050458],\n",
       "        [ 0.11264345],\n",
       "        [ 0.07503635],\n",
       "        [ 0.10779503],\n",
       "        [-0.17175668],\n",
       "        [ 0.14526668],\n",
       "        [-0.13097408],\n",
       "        [ 0.26816466],\n",
       "        [-0.03998512],\n",
       "        [ 0.18155387],\n",
       "        [-0.07754996],\n",
       "        [ 0.13882697],\n",
       "        [-0.22764724],\n",
       "        [ 0.09446978],\n",
       "        [ 0.1457965 ],\n",
       "        [ 0.19461513],\n",
       "        [ 0.3560568 ],\n",
       "        [-0.07464095],\n",
       "        [-0.16027485],\n",
       "        [ 0.12789966],\n",
       "        [-0.0405651 ],\n",
       "        [-0.02750834],\n",
       "        [ 0.04291631],\n",
       "        [ 0.20930342],\n",
       "        [-0.06432031],\n",
       "        [-0.03430244],\n",
       "        [-0.18451491],\n",
       "        [-0.12781568],\n",
       "        [ 0.06749561],\n",
       "        [ 0.11982451],\n",
       "        [-0.15812999],\n",
       "        [ 0.18263996],\n",
       "        [ 0.20356011],\n",
       "        [ 0.03314032],\n",
       "        [-0.2287847 ],\n",
       "        [-0.09146157],\n",
       "        [ 0.08458055],\n",
       "        [-0.30421013],\n",
       "        [ 0.09093646],\n",
       "        [ 0.13069023],\n",
       "        [ 0.13002485],\n",
       "        [ 0.07596236],\n",
       "        [-0.16052896],\n",
       "        [ 0.09507801],\n",
       "        [-0.09430767],\n",
       "        [-0.0404312 ],\n",
       "        [-0.15150042],\n",
       "        [ 0.20154318],\n",
       "        [ 0.09770859],\n",
       "        [-0.04034238],\n",
       "        [-0.2719744 ],\n",
       "        [ 0.03997619],\n",
       "        [ 0.17011844],\n",
       "        [-0.11458307],\n",
       "        [ 0.16443622],\n",
       "        [-0.06670952],\n",
       "        [-0.01126627],\n",
       "        [-0.07572692],\n",
       "        [-0.01455808],\n",
       "        [ 0.3937728 ],\n",
       "        [ 0.03504298],\n",
       "        [-0.4677946 ],\n",
       "        [-0.08963545],\n",
       "        [-0.14564791],\n",
       "        [-0.11112674],\n",
       "        [ 0.4563323 ],\n",
       "        [-0.07663126],\n",
       "        [-0.42704234],\n",
       "        [ 0.03716384],\n",
       "        [ 0.04711905],\n",
       "        [-0.04844907]], dtype=float32),\n",
       " array([-0.6947895], dtype=float32)]"
      ]
     },
     "execution_count": 21,
     "metadata": {},
     "output_type": "execute_result"
    }
   ],
   "source": [
    "model.get_weights()"
   ]
  },
  {
   "cell_type": "code",
   "execution_count": 22,
   "metadata": {},
   "outputs": [],
   "source": [
    "# Step 2: Helper Functions\n",
    "# Function to decode reviews\n",
    "def decode_review(encoded_review):\n",
    "    return ' '.join([reverse_word_index.get(i - 3, '?') for i in encoded_review])\n",
    "\n"
   ]
  },
  {
   "cell_type": "code",
   "execution_count": 23,
   "metadata": {},
   "outputs": [],
   "source": [
    "import re\n",
    "\n",
    "def preprocess_text(text):\n",
    "    # Lowercase and remove non-alphanumeric characters\n",
    "    text = text.lower()\n",
    "    text = re.sub(r\"[^a-z0-9\\s]\", \"\", text)  # remove punctuation\n",
    "    words = text.split()\n",
    "    \n",
    "    encoded_review = [word_index.get(word, 2) + 3 for word in words]  # 2 is UNK token\n",
    "    padded_review = sequence.pad_sequences([encoded_review], maxlen=500)\n",
    "    return padded_review\n"
   ]
  },
  {
   "cell_type": "code",
   "execution_count": 24,
   "metadata": {},
   "outputs": [],
   "source": [
    "# Step 3: Predict Sentiment Function\n",
    "\n",
    "def predict_sentiment(review):\n",
    "    preprocessed_input = preprocess_text(review)\n",
    "    prediction = model.predict(preprocessed_input)\n",
    "    sentiment = 'Positive' if prediction[0][0] >= 0.5 else 'Negative'\n",
    "    return sentiment, prediction[0][0]\n",
    "\n",
    "\n"
   ]
  },
  {
   "cell_type": "code",
   "execution_count": null,
   "metadata": {},
   "outputs": [
    {
     "name": "stdout",
     "output_type": "stream",
     "text": [
      "\u001b[1m1/1\u001b[0m \u001b[32m━━━━━━━━━━━━━━━━━━━━\u001b[0m\u001b[37m\u001b[0m \u001b[1m0s\u001b[0m 63ms/step\n",
      "Review: This movie was fantastic! I loved the plot and the acting was superb.\n",
      "Sentiment: Positive\n",
      "Prediction Score: 0.7837221622467041\n"
     ]
    }
   ],
   "source": [
    "# Step 4: User Input and Prediction\n",
    "# Example review for prediction\n",
    "example_review = \"This movie was fantastic! I loved the plot and the acting was superb.\"\n",
    "\n",
    "sentiment, score = predict_sentiment(example_review)\n",
    "\n",
    "print(f'Review: {example_review}')\n",
    "print(f'Sentiment: {sentiment}')\n",
    "print(f'Prediction Score: {score}')"
   ]
  },
  {
   "cell_type": "code",
   "execution_count": null,
   "metadata": {},
   "outputs": [],
   "source": []
  },
  {
   "cell_type": "code",
   "execution_count": null,
   "metadata": {},
   "outputs": [],
   "source": []
  },
  {
   "cell_type": "code",
   "execution_count": null,
   "metadata": {},
   "outputs": [],
   "source": []
  },
  {
   "cell_type": "code",
   "execution_count": null,
   "metadata": {},
   "outputs": [],
   "source": []
  }
 ],
 "metadata": {
  "kernelspec": {
   "display_name": "Python 3",
   "language": "python",
   "name": "python3"
  },
  "language_info": {
   "codemirror_mode": {
    "name": "ipython",
    "version": 3
   },
   "file_extension": ".py",
   "mimetype": "text/x-python",
   "name": "python",
   "nbconvert_exporter": "python",
   "pygments_lexer": "ipython3",
   "version": "3.11.1"
  }
 },
 "nbformat": 4,
 "nbformat_minor": 2
}
